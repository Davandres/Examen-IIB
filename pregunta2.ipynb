{
 "cells": [
  {
   "cell_type": "code",
   "execution_count": 14,
   "metadata": {},
   "outputs": [
    {
     "name": "stdout",
     "output_type": "stream",
     "text": [
      "Las raíces del polinomio son:\n",
      "[np.float64(0.9999984824875836), np.float64(1.0), np.float64(1.0000059466972075), np.float64(1.0000033605012684), np.float64(-2.0)]\n"
     ]
    }
   ],
   "source": [
    "from scipy.optimize import newton\n",
    "import numpy as np\n",
    "\n",
    "# polinomio\n",
    "def polinomio(x):\n",
    "    return x**5 - 6*x**4 + 2*x**3 + 20*x**2 - 27*x + 10\n",
    "\n",
    "# derivada \n",
    "def derivada_polinomio(x):\n",
    "    return 5*x**4 - 24*x**3 + 6*x**2 + 40*x - 27\n",
    "\n",
    "# Estimaciones iniciales para las raíces\n",
    "estimaciones_iniciales = [0, 1, 2, 3, 4]\n",
    "\n",
    "# método de Newton\n",
    "raices_newton = [newton(polinomio, x0, fprime=derivada_polinomio) for x0 in estimaciones_iniciales]\n",
    "\n",
    "print(\"Las raíces del polinomio son:\")\n",
    "print(raices_newton)"
   ]
  },
  {
   "cell_type": "code",
   "execution_count": null,
   "metadata": {},
   "outputs": [],
   "source": []
  }
 ],
 "metadata": {
  "kernelspec": {
   "display_name": "Python 3",
   "language": "python",
   "name": "python3"
  },
  "language_info": {
   "codemirror_mode": {
    "name": "ipython",
    "version": 3
   },
   "file_extension": ".py",
   "mimetype": "text/x-python",
   "name": "python",
   "nbconvert_exporter": "python",
   "pygments_lexer": "ipython3",
   "version": "3.12.8"
  }
 },
 "nbformat": 4,
 "nbformat_minor": 2
}
